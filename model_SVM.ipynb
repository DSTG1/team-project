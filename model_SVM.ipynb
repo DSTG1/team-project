{
 "cells": [
  {
   "cell_type": "code",
   "execution_count": 1,
   "id": "pointed-casting",
   "metadata": {},
   "outputs": [],
   "source": [
    "import pandas as pd\n",
    "from sklearn.svm import SVC\n",
    "from sklearn.linear_model import LinearRegression\n",
    "from sklearn.metrics import accuracy_score\n",
    "from sklearn import preprocessing\n",
    "from sklearn import utils"
   ]
  },
  {
   "cell_type": "code",
   "execution_count": 21,
   "id": "western-pricing",
   "metadata": {},
   "outputs": [],
   "source": [
    "%store -r dates\n",
    "%store -r snow_water_equivalent\n",
    "%store -r change_snow_water_equivalent\n",
    "%store -r snow_depth\n",
    "%store -r change_snow_depth\n",
    "%store -r air_temp\n",
    "%store -r discharge\n",
    "%store -r stage\n",
    "%store -r df_CO"
   ]
  },
  {
   "cell_type": "code",
   "execution_count": 27,
   "id": "electric-theater",
   "metadata": {},
   "outputs": [
    {
     "name": "stdout",
     "output_type": "stream",
     "text": [
      "                           USGS:06730200:00060:00003\n",
      "datetimeUTC                                         \n",
      "2011-04-20 00:00:00+00:00                       17.9\n",
      "2011-04-21 00:00:00+00:00                       23.4\n",
      "2011-04-22 00:00:00+00:00                       26.2\n",
      "2011-04-23 00:00:00+00:00                       23.9\n",
      "2011-04-24 00:00:00+00:00                       23.9\n",
      "...                                              ...\n",
      "2021-04-15 00:00:00+00:00                       14.7\n",
      "2021-04-16 00:00:00+00:00                       31.8\n",
      "2021-04-17 00:00:00+00:00                       23.6\n",
      "2021-04-18 00:00:00+00:00                       18.0\n",
      "2021-04-19 00:00:00+00:00                       23.9\n",
      "\n",
      "[3653 rows x 1 columns]\n"
     ]
    },
    {
     "data": {
      "text/plain": [
       "0       2011-04-21\n",
       "1       2011-04-22\n",
       "2       2011-04-23\n",
       "3       2011-04-24\n",
       "4       2011-04-25\n",
       "           ...    \n",
       "3648    2021-04-16\n",
       "3649    2021-04-17\n",
       "3650    2021-04-18\n",
       "3651    2021-04-19\n",
       "3652    2021-04-20\n",
       "Name: Date, Length: 3653, dtype: object"
      ]
     },
     "execution_count": 27,
     "metadata": {},
     "output_type": "execute_result"
    }
   ],
   "source": [
    "# check if dates align (manually looking for now, how to refer to 'datetimeUTC' in target dataframe?)\n",
    "print(discharge) #note: as of now, this is the 75th street station in Boulder\n",
    "df_CO['Date']"
   ]
  },
  {
   "cell_type": "code",
   "execution_count": 28,
   "id": "moderate-worship",
   "metadata": {},
   "outputs": [],
   "source": [
    "# assign data and drop dates\n",
    "\n",
    "X = df_CO.drop(columns = ['Date'], axis = 1)\n",
    "Y = discharge\n",
    "#print(X.tail(3))"
   ]
  },
  {
   "cell_type": "code",
   "execution_count": 11,
   "id": "turned-sister",
   "metadata": {},
   "outputs": [
    {
     "name": "stdout",
     "output_type": "stream",
     "text": [
      "continuous\n",
      "multiclass\n"
     ]
    },
    {
     "name": "stderr",
     "output_type": "stream",
     "text": [
      "/opt/miniconda3/lib/python3.8/site-packages/sklearn/utils/validation.py:63: DataConversionWarning: A column-vector y was passed when a 1d array was expected. Please change the shape of y to (n_samples, ), for example using ravel().\n",
      "  return f(*args, **kwargs)\n"
     ]
    }
   ],
   "source": [
    "#preprocessing\n",
    "\n",
    "lab_enc = preprocessing.LabelEncoder()\n",
    "Y_encoded = lab_enc.fit_transform(Y)\n",
    "\n",
    "print(utils.multiclass.type_of_target(Y))\n",
    "#print(utils.multiclass.type_of_target(stage.astype('int')))\n",
    "print(utils.multiclass.type_of_target(Y_encoded))"
   ]
  },
  {
   "cell_type": "code",
   "execution_count": 15,
   "id": "unauthorized-nothing",
   "metadata": {},
   "outputs": [
    {
     "name": "stdout",
     "output_type": "stream",
     "text": [
      "Observations: x = 3653 and y = 3653\n",
      "Training Observations: 2922\n",
      "Testing Observations: 731\n"
     ]
    }
   ],
   "source": [
    "# splitting train and test data\n",
    "\n",
    "length = len(X)\n",
    "\n",
    "split = int(length * 0.80)\n",
    "train_x = X[0:split]\n",
    "test_x = X[split:length]\n",
    "train_y = Y_encoded[0:split]\n",
    "test_y = Y_encoded[split:length]\n",
    "print('Observations: x = %d and y = %d' % (length, len(Y_encoded)))\n",
    "print('Training Observations: %d' % (len(train_x)))\n",
    "print('Testing Observations: %d' % (len(test_x)))"
   ]
  },
  {
   "cell_type": "code",
   "execution_count": 16,
   "id": "functioning-letter",
   "metadata": {},
   "outputs": [
    {
     "name": "stdout",
     "output_type": "stream",
     "text": [
      "\n",
      "Shape of training data : (2922, 530)\n",
      "\n",
      "Shape of testing data : (731, 530)\n",
      "\n",
      "Training model with 530 dimensions.\n",
      "Target on train data [372 372 372 ... 308 308 308]\n",
      "Accuracy score on train dataset :  0.01403148528405202\n",
      "Target on test data [ 308  308  362  362  362  362  362  362  362  362  308  308  308  362\n",
      "  362  362  362  362  362  362  362  362  362  362  362  362  362  362\n",
      "  362  362  362  362  362  362  362  362  362  362  362  362  362  362\n",
      "  559  559  559  559  559  559 1045  559  559 1045 1045  774 1039 1039\n",
      "  774 1039 1039 1039 1039 1039 1039  774  774 1039 1039 1039 1039 1039\n",
      " 1039 1039 1039 1039 1039 1039 1039 1039 1039 1039 1039 1039 1039 1039\n",
      " 1039 1039 1039 1039 1039 1039 1039 1039 1039 1039 1039 1039 1039 1039\n",
      " 1039 1039 1039 1039 1039 1039 1039 1039 1039 1039 1039 1039 1039 1039\n",
      " 1039 1039 1039 1039 1039 1039 1039 1039 1039 1039 1039 1039 1039 1039\n",
      " 1039 1039 1039 1039 1039 1039 1039 1039 1039 1039 1039 1039 1039 1039\n",
      " 1039 1039 1039 1039 1039 1039 1039 1039 1039 1039 1039 1039 1039 1039\n",
      "  774 1039 1039 1039 1039 1039 1039 1039 1039 1039 1039  774 1039  774\n",
      " 1039  774 1039 1039  774  492  774  774  774  774  774 1039 1039  774\n",
      "  774  492  492  774  492  492  774  774  492  492  324  324  492  324\n",
      "  492  774  774  774  492  774  774  774  774  492  774  774  774  774\n",
      "  492  774  774  774  774  492  324  324  492  324  362  492  492  362\n",
      "  362  324  324  324  492  324  324  324  362  362  362  362  362  362\n",
      "  362  362  362  362  362  362  362  362  362  362  362  362  362  362\n",
      "  362  362  362  362  362  362  362  362  362  362  362  362  362  362\n",
      "  362  362  362  362  362  362  362  362  362  362  362  362  362  362\n",
      "  362  362  362  362  362  362  362  362  362  362  362  362  362  362\n",
      "  362  362  362  362  362  362  362  362  362  362  362  362  362  362\n",
      "  362  362  362  362  362  362  362  362  362  362  362  362  362  362\n",
      "  362  362  362  362  362  362  362  362  362  362  362  362  362  362\n",
      "  362  362  362  362  362  362  362  362  362  362  362  362  362  362\n",
      "  362  362  362  362  362  362  362  362  362  362  362  362  362  362\n",
      "  362  362  362  362  362  362  362  362  362  362  362 1065 1065 1065\n",
      "  393  550  393  393  550  324  559  492 1045 1045 1045 1036 1045 1036\n",
      " 1045 1045  774 1039  774  774 1039  774  774  774 1039 1039 1039 1039\n",
      " 1039 1039 1039 1039 1039 1039 1039 1039 1039  774  774 1039 1039 1039\n",
      " 1039 1039 1039 1039 1039 1039 1039 1039 1039 1039 1039 1039 1039 1039\n",
      " 1039 1039 1039 1039 1039 1039 1039 1039 1039 1039 1039 1039 1039 1039\n",
      " 1039 1039 1039 1039 1039 1039 1039 1039 1039 1039 1039 1039 1039 1039\n",
      " 1039 1039 1039 1039 1039 1039 1039 1039 1039 1039 1039 1039 1039 1039\n",
      " 1039 1039 1039 1039 1039 1039 1039 1039 1039 1039 1039 1039 1039 1039\n",
      " 1039 1039 1039 1039 1039 1039 1039 1039 1039 1039 1039 1039 1039 1039\n",
      " 1039 1039 1039  774  774  774 1039 1039 1039 1039 1039 1039 1039 1039\n",
      " 1039 1039 1039 1039 1039 1039 1039 1039  774  774 1039 1039 1039 1039\n",
      " 1039 1039 1039 1039 1039 1039 1039 1039  774 1039 1039 1039  774 1039\n",
      " 1039 1039 1039 1039 1039  774 1039 1039  324  324  492  774  774  774\n",
      "  774  774  774  774  774 1039 1039  774  492  324  324  492  324  492\n",
      "  324  492  774  774 1039  774  774  492  774  492  324  324  324  324\n",
      "  324  324  324  324  324  324  492  324  324  492  492  492  492  324\n",
      "  362  324  362  362  324  324  362  362  324  324  362  362  324  324\n",
      "  324  324  362  362  362  362  362  362  362  362  362  362  362  362\n",
      "  362  362  362  362  362  362  362  362  362  362  362  362  362  362\n",
      "  362  362  362  362  362  362  362  362  362  362  362  362  362  362\n",
      "  362  362  362  362  362  362  362  362  362  362  362  362  362  362\n",
      "  362  362  362  362  362  362  362  362  362  362  362  362  362  362\n",
      "  362  362  362  362  362  362  362  362  362  362  362  362  362  362\n",
      "  362  362  362  362  362  362  362  362  362  362  362  362  362  362\n",
      "  362  362  362  362  362  362  362  362  362  362  362  362  362  362\n",
      "  362  362  362]\n",
      "Accuracy score on test dataset :  0.009575923392612859\n"
     ]
    }
   ],
   "source": [
    "# shape of the dataset\n",
    "print('\\nShape of training data :',train_x.shape)\n",
    "print('\\nShape of testing data :',test_x.shape)\n",
    "print('\\nTraining model with {} dimensions.'.format(train_x.shape[1]))\n",
    "\n",
    "#Some parameters are : kernal and degree\n",
    "\n",
    "#https://scikit-learn.org/stable/modules/generated/sklearn.svm.SVC.html\n",
    "\n",
    "# create object of model\n",
    "model = SVC()\n",
    "\n",
    "# fit the model with the training data\n",
    "model.fit(train_x,train_y)\n",
    "\n",
    "# predict the target on the train dataset\n",
    "predict_train = model.predict(train_x)\n",
    "print('Target on train data',predict_train) \n",
    "\n",
    "# Accuray Score on train dataset\n",
    "accuracy_train = accuracy_score(train_y,predict_train)\n",
    "print('Accuracy score on train dataset : ', accuracy_train)\n",
    "\n",
    "# predict the target on the test dataset\n",
    "predict_test = model.predict(test_x)\n",
    "print('Target on test data', predict_test) \n",
    "\n",
    "# Accuracy Score on test dataset\n",
    "accuracy_test = accuracy_score(test_y, predict_test)\n",
    "print('Accuracy score on test dataset : ', accuracy_test)"
   ]
  },
  {
   "cell_type": "code",
   "execution_count": null,
   "id": "express-functionality",
   "metadata": {},
   "outputs": [],
   "source": []
  }
 ],
 "metadata": {
  "kernelspec": {
   "display_name": "Python 3",
   "language": "python",
   "name": "python3"
  },
  "language_info": {
   "codemirror_mode": {
    "name": "ipython",
    "version": 3
   },
   "file_extension": ".py",
   "mimetype": "text/x-python",
   "name": "python",
   "nbconvert_exporter": "python",
   "pygments_lexer": "ipython3",
   "version": "3.8.5"
  }
 },
 "nbformat": 4,
 "nbformat_minor": 5
}

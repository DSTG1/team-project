{
 "cells": [
  {
   "cell_type": "code",
   "execution_count": 8,
   "id": "pointed-casting",
   "metadata": {},
   "outputs": [],
   "source": [
    "import pandas as pd\n",
    "from sklearn.decomposition import PCA\n",
    "from sklearn.linear_model import LinearRegression\n",
    "from sklearn.metrics import mean_squared_error  "
   ]
  },
  {
   "cell_type": "code",
   "execution_count": 2,
   "id": "western-pricing",
   "metadata": {},
   "outputs": [],
   "source": [
    "%store -r dates\n",
    "%store -r snow_water_equivalent\n",
    "%store -r change_snow_water_equivalent\n",
    "%store -r snow_depth\n",
    "%store -r change_snow_depth\n",
    "%store -r air_temp\n",
    "%store -r discharge\n",
    "%store -r stage\n",
    "%store -r df_CO"
   ]
  },
  {
   "cell_type": "code",
   "execution_count": 3,
   "id": "corporate-routine",
   "metadata": {},
   "outputs": [
    {
     "name": "stdout",
     "output_type": "stream",
     "text": [
      "                           USGS:06730200:00060:00003\n",
      "datetimeUTC                                         \n",
      "2011-04-20 00:00:00+00:00                       17.9\n",
      "2011-04-21 00:00:00+00:00                       23.4\n",
      "2011-04-22 00:00:00+00:00                       26.2\n",
      "2011-04-23 00:00:00+00:00                       23.9\n",
      "2011-04-24 00:00:00+00:00                       23.9\n",
      "...                                              ...\n",
      "2021-04-15 00:00:00+00:00                       14.7\n",
      "2021-04-16 00:00:00+00:00                       31.8\n",
      "2021-04-17 00:00:00+00:00                       23.6\n",
      "2021-04-18 00:00:00+00:00                       18.0\n",
      "2021-04-19 00:00:00+00:00                       23.9\n",
      "\n",
      "[3653 rows x 1 columns]\n"
     ]
    },
    {
     "data": {
      "text/plain": [
       "0       2011-04-21\n",
       "1       2011-04-22\n",
       "2       2011-04-23\n",
       "3       2011-04-24\n",
       "4       2011-04-25\n",
       "           ...    \n",
       "3648    2021-04-16\n",
       "3649    2021-04-17\n",
       "3650    2021-04-18\n",
       "3651    2021-04-19\n",
       "3652    2021-04-20\n",
       "Name: Date, Length: 3653, dtype: object"
      ]
     },
     "execution_count": 3,
     "metadata": {},
     "output_type": "execute_result"
    }
   ],
   "source": [
    "# check if dates align (manually looking for now, how to refer to 'datetimeUTC' in target dataframe?)\n",
    "print(discharge) #note: as of now, this is the 75th street station in Boulder\n",
    "df_CO['Date']"
   ]
  },
  {
   "cell_type": "code",
   "execution_count": 4,
   "id": "educated-bench",
   "metadata": {},
   "outputs": [],
   "source": [
    "# assign data and drop dates\n",
    "\n",
    "X = df_CO.drop(columns = ['Date'], axis = 1)\n",
    "Y = discharge\n",
    "#print(X.tail(3))"
   ]
  },
  {
   "cell_type": "code",
   "execution_count": 6,
   "id": "unauthorized-nothing",
   "metadata": {},
   "outputs": [
    {
     "name": "stdout",
     "output_type": "stream",
     "text": [
      "Observations: x = 3653 and y = 3653\n",
      "Training Observations: 2922\n",
      "Testing Observations: 731\n"
     ]
    }
   ],
   "source": [
    "# splitting train and test data\n",
    "\n",
    "length = len(X)\n",
    "\n",
    "split = int(length * 0.80)\n",
    "train_x = X[0:split]\n",
    "test_x = X[split:length]\n",
    "train_y = Y[0:split]\n",
    "test_y = Y[split:length]\n",
    "print('Observations: x = %d and y = %d' % (length, len(Y)))\n",
    "print('Training Observations: %d' % (len(train_x)))\n",
    "print('Testing Observations: %d' % (len(test_x)))"
   ]
  },
  {
   "cell_type": "code",
   "execution_count": 9,
   "id": "functioning-letter",
   "metadata": {},
   "outputs": [
    {
     "name": "stdout",
     "output_type": "stream",
     "text": [
      "\n",
      "Shape of training data : (2922, 530)\n",
      "\n",
      "Shape of testing data : (731, 530)\n",
      "\n",
      "Training model with 530 dimensions.\n",
      "\n",
      "RMSE on train dataset :  150.19915998444506\n",
      "\n",
      "RMSE on test dataset :  187.32503158699626\n"
     ]
    }
   ],
   "source": [
    "# shape of the dataset\n",
    "print('\\nShape of training data :',train_x.shape)\n",
    "print('\\nShape of testing data :',test_x.shape)\n",
    "print('\\nTraining model with {} dimensions.'.format(train_x.shape[1]))\n",
    "\n",
    "# create object of model\n",
    "model = LinearRegression()\n",
    "\n",
    "# fit the model with the training data\n",
    "model.fit(train_x,train_y)\n",
    "\n",
    "# predict the target on the train dataset\n",
    "predict_train = model.predict(train_x)\n",
    "\n",
    "# Accuray Score on train dataset\n",
    "rmse_train = mean_squared_error(train_y,predict_train)**(0.5)\n",
    "print('\\nRMSE on train dataset : ', rmse_train)\n",
    "\n",
    "# predict the target on the test dataset\n",
    "predict_test = model.predict(test_x)\n",
    "\n",
    "# Accuracy Score on test dataset\n",
    "rmse_test = mean_squared_error(test_y,predict_test)**(0.5)\n",
    "print('\\nRMSE on test dataset : ', rmse_test)"
   ]
  },
  {
   "cell_type": "code",
   "execution_count": 10,
   "id": "altered-formation",
   "metadata": {},
   "outputs": [
    {
     "name": "stdout",
     "output_type": "stream",
     "text": [
      "\n",
      "Training model with 200 dimensions.\n",
      "\n",
      "RMSE on new train dataset :  163.66862029109282\n",
      "\n",
      "RMSE on new test dataset :  143.1307160661241\n"
     ]
    }
   ],
   "source": [
    "# create the PCA (Principal Component Analysis) model\n",
    "# reduce the dimensions of the data to d\n",
    "\n",
    "#Some parameters to possibly add are : svd_solver, iterated_power??\n",
    "#https://scikit-learn.org/stable/modules/generated/sklearn.decomposition.PCA.html\n",
    "\n",
    "d=200\n",
    "model_pca = PCA(n_components=d)\n",
    "\n",
    "new_train = model_pca.fit_transform(train_x)\n",
    "new_test  = model_pca.fit_transform(test_x)\n",
    "\n",
    "print('\\nTraining model with {} dimensions.'.format(new_train.shape[1]))\n",
    "\n",
    "# create object of model\n",
    "model_new = LinearRegression()\n",
    "\n",
    "# fit the model with the training data\n",
    "model_new.fit(new_train,train_y)\n",
    "\n",
    "# predict the target on the new train dataset\n",
    "predict_train_pca = model_new.predict(new_train)\n",
    "\n",
    "# Accuray Score on train dataset\n",
    "rmse_train_pca = mean_squared_error(train_y,predict_train_pca)**(0.5)\n",
    "print('\\nRMSE on new train dataset : ', rmse_train_pca)\n",
    "\n",
    "# predict the target on the new test dataset\n",
    "predict_test_pca = model_new.predict(new_test)\n",
    "\n",
    "# Accuracy Score on test dataset\n",
    "rmse_test_pca = mean_squared_error(test_y,predict_test_pca)**(0.5)\n",
    "print('\\nRMSE on new test dataset : ', rmse_test_pca)"
   ]
  },
  {
   "cell_type": "code",
   "execution_count": null,
   "id": "wicked-mercury",
   "metadata": {},
   "outputs": [],
   "source": []
  }
 ],
 "metadata": {
  "kernelspec": {
   "display_name": "Python 3",
   "language": "python",
   "name": "python3"
  },
  "language_info": {
   "codemirror_mode": {
    "name": "ipython",
    "version": 3
   },
   "file_extension": ".py",
   "mimetype": "text/x-python",
   "name": "python",
   "nbconvert_exporter": "python",
   "pygments_lexer": "ipython3",
   "version": "3.8.5"
  }
 },
 "nbformat": 4,
 "nbformat_minor": 5
}

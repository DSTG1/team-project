{
 "cells": [
  {
   "cell_type": "code",
   "execution_count": 36,
   "id": "pointed-casting",
   "metadata": {},
   "outputs": [],
   "source": [
    "import pandas as pd\n",
    "from sklearn.svm import SVC\n",
    "from sklearn.linear_model import LinearRegression\n",
    "from sklearn.metrics import accuracy_score\n",
    "from sklearn import preprocessing\n",
    "from sklearn import utils"
   ]
  },
  {
   "cell_type": "code",
   "execution_count": 37,
   "id": "western-pricing",
   "metadata": {},
   "outputs": [],
   "source": [
    "%store -r dates\n",
    "%store -r snow_water_equivalent\n",
    "%store -r change_snow_water_equivalent\n",
    "%store -r snow_depth\n",
    "%store -r change_snow_depth\n",
    "%store -r air_temp\n",
    "%store -r discharge\n",
    "%store -r stage\n",
    "%store -r CO_df"
   ]
  },
  {
   "cell_type": "code",
   "execution_count": 41,
   "id": "turned-sister",
   "metadata": {},
   "outputs": [
    {
     "name": "stdout",
     "output_type": "stream",
     "text": [
      "continuous\n",
      "multiclass\n"
     ]
    },
    {
     "name": "stderr",
     "output_type": "stream",
     "text": [
      "/opt/miniconda3/lib/python3.8/site-packages/sklearn/utils/validation.py:63: DataConversionWarning: A column-vector y was passed when a 1d array was expected. Please change the shape of y to (n_samples, ), for example using ravel().\n",
      "  return f(*args, **kwargs)\n"
     ]
    }
   ],
   "source": [
    "#preprocessing\n",
    "\n",
    "lab_enc = preprocessing.LabelEncoder()\n",
    "encoded = lab_enc.fit_transform(stage)\n",
    "\n",
    "print(utils.multiclass.type_of_target(stage))\n",
    "#print(utils.multiclass.type_of_target(stage.astype('int')))\n",
    "print(utils.multiclass.type_of_target(encoded))"
   ]
  },
  {
   "cell_type": "code",
   "execution_count": 39,
   "id": "unauthorized-nothing",
   "metadata": {},
   "outputs": [
    {
     "name": "stdout",
     "output_type": "stream",
     "text": [
      "Observations: x = 3650 and y = 3650\n",
      "Training Observations: 2920\n",
      "Testing Observations: 730\n"
     ]
    }
   ],
   "source": [
    "# splitting train and test data\n",
    "\n",
    "split = int(len(stage) * 0.80)\n",
    "train_x = CO_df[0:split]\n",
    "test_x = CO_df[split:len(stage)]\n",
    "train_y = encoded[0:split]\n",
    "test_y = encoded[split:len(stage)]\n",
    "print('Observations: x = %d and y = %d' % (len(stage), len(CO_df)))\n",
    "print('Training Observations: %d' % (len(train_x)))\n",
    "print('Testing Observations: %d' % (len(test_x)))"
   ]
  },
  {
   "cell_type": "code",
   "execution_count": 40,
   "id": "functioning-letter",
   "metadata": {},
   "outputs": [
    {
     "name": "stdout",
     "output_type": "stream",
     "text": [
      "\n",
      "Shape of training data : (2920, 535)\n",
      "\n",
      "Shape of testing data : (730, 535)\n",
      "\n",
      "Training model with 535 dimensions.\n",
      "Target on train data [372 284 372 ... 308 308 308]\n",
      "accuracy_score on train dataset :  0.0136986301369863\n",
      "Target on test data [ 308  308  308  308  308  308  308  308  362  362  362  362  362  362\n",
      "  362  362  308  308  308  362  362  362  362  362  362  362  362  362\n",
      "  362  362  362  362  362  362  362  362  362  362  362  362  362  362\n",
      "  362  362  362  362  362  362  559  559  559  559  559  559 1045  559\n",
      "  559 1045 1045  774 1039 1039  774 1039 1039 1039 1039 1039 1039  774\n",
      "  774 1039 1039 1039 1039 1039 1039 1039 1039 1039 1039 1039 1039 1039\n",
      " 1039 1039 1039 1039 1039 1039 1039 1039 1039 1039 1039 1039 1039 1039\n",
      " 1039 1039 1039 1039 1039 1039 1039 1039 1039 1039 1039 1039 1039 1039\n",
      " 1039 1039 1039 1039 1039 1039 1039 1039 1039 1039 1039 1039 1039 1039\n",
      " 1039 1039 1039 1039 1039 1039 1039 1039 1039 1039 1039 1039 1039 1039\n",
      " 1039 1039 1039 1039 1039 1039 1039 1039 1039 1039 1039 1039 1039 1039\n",
      " 1039 1039 1039 1039 1039 1039  774 1039 1039 1039 1039 1039 1039 1039\n",
      " 1039 1039 1039  774 1039  774 1039  774 1039 1039  774  492  774  774\n",
      "  774  774  774 1039 1039  774  774  492  492  774  492  492  774  774\n",
      "  492  492  324  324  492  324  492  774  774  774  492  774  774  774\n",
      "  774  492  774  774  774  774  492  774  774  774  774  492  324  324\n",
      "  492  324  362  492  492  362  362  324  324  324  492  324  324  324\n",
      "  362  362  362  362  362  362  362  362  362  362  362  362  362  362\n",
      "  362  362  362  362  362  362  362  362  362  362  362  362  362  362\n",
      "  362  362  362  362  362  362  362  362  362  362  362  362  362  362\n",
      "  362  362  362  362  362  362  362  362  362  362  362  362  362  362\n",
      "  362  362  362  362  362  362  362  362  362  362  362  362  362  362\n",
      "  362  362  362  362  362  362  362  362  362  362  362  362  362  362\n",
      "  362  362  362  362  362  362  362  362  362  362  362  362  362  362\n",
      "  362  362  362  362  362  362  362  362  362  362  362  362  362  362\n",
      "  362  362  362  362  362  362  362  362  362  362  362  362  362  362\n",
      "  362  362  362  362  362  362  362  362  362  362  362  362  362  362\n",
      "  362  362  362 1065 1065 1065  393  550  393  393  550  324  559  492\n",
      " 1045 1045 1045 1036 1036 1036 1045 1045  774 1039  774  774 1039  774\n",
      "  774  774 1039 1039 1039 1039 1039 1039 1039 1039 1039 1039 1039 1039\n",
      " 1039  774  774 1039 1039 1039 1039 1039 1039 1039 1039 1039 1039 1039\n",
      " 1039 1039 1039 1039 1039 1039 1039 1039 1039 1039 1039 1039 1039 1039\n",
      " 1039 1039 1039 1039 1039 1039 1039 1039 1039 1039 1039 1039 1039 1039\n",
      " 1039 1039 1039 1039 1039 1039 1039 1039 1039 1039 1039 1039 1039 1039\n",
      " 1039 1039 1039 1039 1039 1039 1039 1039 1039 1039 1039 1039 1039 1039\n",
      " 1039 1039 1039 1039 1039 1039 1039 1039 1039 1039 1039 1039 1039 1039\n",
      " 1039 1039 1039 1039 1039 1039 1039 1039 1039  774  774  774 1039 1039\n",
      " 1039 1039 1039 1039 1039 1039 1039 1039 1039 1039 1039 1039 1039 1039\n",
      "  774  774 1039 1039 1039 1039 1039 1039 1039 1039 1039 1039 1039 1039\n",
      "  774 1039 1039 1039  774 1039 1039 1039 1039 1039 1039  774 1039 1039\n",
      "  324  324  492  774  774  774  774  774  774  774  774 1039 1039  774\n",
      "  492  324  324  492  324  492  324  492  774  774 1039  774  774  492\n",
      "  774  492  324  324  324  324  324  324  324  324  324  324  492  324\n",
      "  324  492  492  492  492  324  362  324  362  362  324  324  362  362\n",
      "  324  324  362  362  324  324  324  324  362  362  362  362  362  362\n",
      "  362  362  362  362  362  362  362  362  362  362  362  362  362  362\n",
      "  362  362  362  362  362  362  362  362  362  362  362  362  362  362\n",
      "  362  362  362  362  362  362  362  362  362  362  362  362  362  362\n",
      "  362  362  362  362  362  362  362  362  362  362  362  362  362  362\n",
      "  362  362  362  362  362  362  362  362  362  362  362  362  362  362\n",
      "  362  362  362  362  362  362  362  362  362  362  362  362  362  362\n",
      "  362  362  362  362  362  362  362  362  362  362  362  362  362  362\n",
      "  362  362]\n",
      "accuracy_score on test dataset :  0.010958904109589041\n"
     ]
    }
   ],
   "source": [
    "# drop any labels?\n",
    "#train_data = CO_stations.drop(columns=['Date'],axis=1)\n",
    "#test_data = CO_stations.drop(columns=['Date'],axis=1)\n",
    "#print(train_data.tail(3))\n",
    "\n",
    "# shape of the dataset\n",
    "print('\\nShape of training data :',train_x.shape)\n",
    "print('\\nShape of testing data :',test_x.shape)\n",
    "print('\\nTraining model with {} dimensions.'.format(train_x.shape[1]))\n",
    "\n",
    "#Some parameters are : kernal and degree\n",
    "\n",
    "#https://scikit-learn.org/stable/modules/generated/sklearn.svm.SVC.html\n",
    "\n",
    "\n",
    "# create object of model\n",
    "model = SVC()\n",
    "\n",
    "# fit the model with the training data\n",
    "model.fit(train_x,train_y)\n",
    "\n",
    "# predict the target on the train dataset\n",
    "predict_train = model.predict(train_x)\n",
    "print('Target on train data',predict_train) \n",
    "\n",
    "# Accuray Score on train dataset\n",
    "accuracy_train = accuracy_score(train_y,predict_train)\n",
    "print('Accuracy score on train dataset : ', accuracy_train)\n",
    "\n",
    "# predict the target on the test dataset\n",
    "predict_test = model.predict(test_x)\n",
    "print('Target on test data', predict_test) \n",
    "\n",
    "# Accuracy Score on test dataset\n",
    "accuracy_test = accuracy_score(test_y, predict_test)\n",
    "print('Accuracy score on test dataset : ', accuracy_test)\n",
    "\n",
    "#print(\"SVC\")\n",
    "#print(model.predict(test_y))  #what prediction data?"
   ]
  }
 ],
 "metadata": {
  "kernelspec": {
   "display_name": "Python 3",
   "language": "python",
   "name": "python3"
  },
  "language_info": {
   "codemirror_mode": {
    "name": "ipython",
    "version": 3
   },
   "file_extension": ".py",
   "mimetype": "text/x-python",
   "name": "python",
   "nbconvert_exporter": "python",
   "pygments_lexer": "ipython3",
   "version": "3.8.5"
  }
 },
 "nbformat": 4,
 "nbformat_minor": 5
}

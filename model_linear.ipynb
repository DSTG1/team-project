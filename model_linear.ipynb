{
 "cells": [
  {
   "cell_type": "code",
   "execution_count": 1,
   "id": "pointed-casting",
   "metadata": {},
   "outputs": [],
   "source": [
    "import pandas as pd\n",
    "from sklearn.decomposition import PCA\n",
    "from sklearn.linear_model import LinearRegression\n",
    "from sklearn.metrics import mean_squared_error  "
   ]
  },
  {
   "cell_type": "code",
   "execution_count": 2,
   "id": "western-pricing",
   "metadata": {},
   "outputs": [
    {
     "output_type": "stream",
     "name": "stdout",
     "text": [
      "no stored variable or alias dates\nno stored variable or alias snow_water_equivalent\nno stored variable or alias change_snow_water_equivalent\nno stored variable or alias snow_depth\nno stored variable or alias change_snow_depth\nno stored variable or alias air_temp\nno stored variable or alias discharge\nno stored variable or alias stage\nno stored variable or alias CO_df\n"
     ]
    }
   ],
   "source": [
    "%store -r dates\n",
    "%store -r snow_water_equivalent\n",
    "%store -r change_snow_water_equivalent\n",
    "%store -r snow_depth\n",
    "%store -r change_snow_depth\n",
    "%store -r air_temp\n",
    "%store -r discharge\n",
    "%store -r stage\n",
    "%store -r CO_df"
   ]
  },
  {
   "cell_type": "code",
   "execution_count": 3,
   "id": "unauthorized-nothing",
   "metadata": {},
   "outputs": [
    {
     "output_type": "error",
     "ename": "NameError",
     "evalue": "name 'stage' is not defined",
     "traceback": [
      "\u001b[1;31m---------------------------------------------------------------------------\u001b[0m",
      "\u001b[1;31mNameError\u001b[0m                                 Traceback (most recent call last)",
      "\u001b[1;32m<ipython-input-3-2dbaed2bd103>\u001b[0m in \u001b[0;36m<module>\u001b[1;34m\u001b[0m\n\u001b[0;32m      1\u001b[0m \u001b[1;31m# splitting train and test data\u001b[0m\u001b[1;33m\u001b[0m\u001b[1;33m\u001b[0m\u001b[1;33m\u001b[0m\u001b[0m\n\u001b[0;32m      2\u001b[0m \u001b[1;33m\u001b[0m\u001b[0m\n\u001b[1;32m----> 3\u001b[1;33m \u001b[0msplit\u001b[0m \u001b[1;33m=\u001b[0m \u001b[0mint\u001b[0m\u001b[1;33m(\u001b[0m\u001b[0mlen\u001b[0m\u001b[1;33m(\u001b[0m\u001b[0mstage\u001b[0m\u001b[1;33m)\u001b[0m \u001b[1;33m*\u001b[0m \u001b[1;36m0.80\u001b[0m\u001b[1;33m)\u001b[0m\u001b[1;33m\u001b[0m\u001b[1;33m\u001b[0m\u001b[0m\n\u001b[0m\u001b[0;32m      4\u001b[0m \u001b[0mtrain_x\u001b[0m \u001b[1;33m=\u001b[0m \u001b[0mCO_df\u001b[0m\u001b[1;33m[\u001b[0m\u001b[1;36m0\u001b[0m\u001b[1;33m:\u001b[0m\u001b[0msplit\u001b[0m\u001b[1;33m]\u001b[0m\u001b[1;33m\u001b[0m\u001b[1;33m\u001b[0m\u001b[0m\n\u001b[0;32m      5\u001b[0m \u001b[0mtest_x\u001b[0m \u001b[1;33m=\u001b[0m \u001b[0mCO_df\u001b[0m\u001b[1;33m[\u001b[0m\u001b[0msplit\u001b[0m\u001b[1;33m:\u001b[0m\u001b[0mlen\u001b[0m\u001b[1;33m(\u001b[0m\u001b[0mstage\u001b[0m\u001b[1;33m)\u001b[0m\u001b[1;33m]\u001b[0m\u001b[1;33m\u001b[0m\u001b[1;33m\u001b[0m\u001b[0m\n",
      "\u001b[1;31mNameError\u001b[0m: name 'stage' is not defined"
     ]
    }
   ],
   "source": [
    "# splitting train and test data\n",
    "\n",
    "split = int(len(stage) * 0.80)\n",
    "train_x = CO_df[0:split]\n",
    "test_x = CO_df[split:len(stage)]\n",
    "train_y = stage[0:split]\n",
    "test_y = stage[split:len(stage)]\n",
    "print('Observations: x = %d and y = %d' % (len(stage), len(CO_df)))\n",
    "print('Training Observations: %d' % (len(train_x)))\n",
    "print('Testing Observations: %d' % (len(test_x)))"
   ]
  },
  {
   "cell_type": "code",
   "execution_count": 27,
   "id": "functioning-letter",
   "metadata": {},
   "outputs": [
    {
     "name": "stdout",
     "output_type": "stream",
     "text": [
      "\n",
      "Shape of training data : (2920, 535)\n",
      "\n",
      "Shape of testing data : (730, 535)\n",
      "\n",
      "Training model with 535 dimensions.\n",
      "\n",
      "RMSE on train dataset :  150.17778019420678\n",
      "\n",
      "RMSE on test dataset :  209.99777957234355\n"
     ]
    }
   ],
   "source": [
    "# drop any labels?\n",
    "#train_data = CO_stations.drop(columns=['Date'],axis=1)\n",
    "#test_data = CO_stations.drop(columns=['Date'],axis=1)\n",
    "#print(train_data.tail(3))\n",
    "\n",
    "# shape of the dataset\n",
    "print('\\nShape of training data :',train_x.shape)\n",
    "print('\\nShape of testing data :',test_x.shape)\n",
    "print('\\nTraining model with {} dimensions.'.format(train_x.shape[1]))\n",
    "\n",
    "# create object of model\n",
    "model = LinearRegression()\n",
    "\n",
    "# fit the model with the training data\n",
    "model.fit(train_x,train_y)\n",
    "\n",
    "# predict the target on the train dataset\n",
    "predict_train = model.predict(train_x)\n",
    "\n",
    "# Accuray Score on train dataset\n",
    "rmse_train = mean_squared_error(train_y,predict_train)**(0.5)\n",
    "print('\\nRMSE on train dataset : ', rmse_train)\n",
    "\n",
    "# predict the target on the test dataset\n",
    "predict_test = model.predict(test_x)\n",
    "\n",
    "# Accuracy Score on test dataset\n",
    "rmse_test = mean_squared_error(test_y,predict_test)**(0.5)\n",
    "print('\\nRMSE on test dataset : ', rmse_test)"
   ]
  },
  {
   "cell_type": "code",
   "execution_count": 28,
   "id": "altered-formation",
   "metadata": {},
   "outputs": [
    {
     "name": "stdout",
     "output_type": "stream",
     "text": [
      "\n",
      "Training model with 200 dimensions.\n",
      "\n",
      "RMSE on new train dataset :  163.65757092162326\n",
      "\n",
      "RMSE on new test dataset :  141.4364076045244\n"
     ]
    }
   ],
   "source": [
    "# create the PCA (Principal Component Analysis) model\n",
    "# reduce the dimensions of the data to d\n",
    "\n",
    "#Some parameters to possibly add are : svd_solver, iterated_power??\n",
    "#https://scikit-learn.org/stable/modules/generated/sklearn.decomposition.PCA.html\n",
    "\n",
    "d=200\n",
    "model_pca = PCA(n_components=d)\n",
    "\n",
    "new_train = model_pca.fit_transform(train_x)\n",
    "new_test  = model_pca.fit_transform(test_x)\n",
    "\n",
    "print('\\nTraining model with {} dimensions.'.format(new_train.shape[1]))\n",
    "\n",
    "# create object of model\n",
    "model_new = LinearRegression()\n",
    "\n",
    "# fit the model with the training data\n",
    "model_new.fit(new_train,train_y)\n",
    "\n",
    "# predict the target on the new train dataset\n",
    "predict_train_pca = model_new.predict(new_train)\n",
    "\n",
    "# Accuray Score on train dataset\n",
    "rmse_train_pca = mean_squared_error(train_y,predict_train_pca)**(0.5)\n",
    "print('\\nRMSE on new train dataset : ', rmse_train_pca)\n",
    "\n",
    "# predict the target on the new test dataset\n",
    "predict_test_pca = model_new.predict(new_test)\n",
    "\n",
    "# Accuracy Score on test dataset\n",
    "rmse_test_pca = mean_squared_error(test_y,predict_test_pca)**(0.5)\n",
    "print('\\nRMSE on new test dataset : ', rmse_test_pca)"
   ]
  },
  {
   "cell_type": "code",
   "execution_count": null,
   "id": "wicked-mercury",
   "metadata": {},
   "outputs": [],
   "source": []
  }
 ],
 "metadata": {
  "kernelspec": {
   "name": "python368jvsc74a57bd0bc5325771484cd741460cbbcf20a153b1ef45b389ce85e60a186ce6bd8aea41f",
   "display_name": "Python 3.6.8 64-bit"
  },
  "language_info": {
   "codemirror_mode": {
    "name": "ipython",
    "version": 3
   },
   "file_extension": ".py",
   "mimetype": "text/x-python",
   "name": "python",
   "nbconvert_exporter": "python",
   "pygments_lexer": "ipython3",
   "version": "3.6.8-final"
  },
  "metadata": {
   "interpreter": {
    "hash": "bc5325771484cd741460cbbcf20a153b1ef45b389ce85e60a186ce6bd8aea41f"
   }
  }
 },
 "nbformat": 4,
 "nbformat_minor": 5
}
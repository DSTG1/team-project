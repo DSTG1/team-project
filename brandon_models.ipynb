{
 "metadata": {
  "language_info": {
   "codemirror_mode": {
    "name": "ipython",
    "version": 3
   },
   "file_extension": ".py",
   "mimetype": "text/x-python",
   "name": "python",
   "nbconvert_exporter": "python",
   "pygments_lexer": "ipython3",
   "version": "3.6.8-final"
  },
  "orig_nbformat": 2,
  "kernelspec": {
   "name": "python368jvsc74a57bd0bc5325771484cd741460cbbcf20a153b1ef45b389ce85e60a186ce6bd8aea41f",
   "display_name": "Python 3.6.8 64-bit"
  },
  "metadata": {
   "interpreter": {
    "hash": "bc5325771484cd741460cbbcf20a153b1ef45b389ce85e60a186ce6bd8aea41f"
   }
  }
 },
 "nbformat": 4,
 "nbformat_minor": 2,
 "cells": [
  {
   "cell_type": "code",
   "execution_count": 2,
   "metadata": {},
   "outputs": [],
   "source": [
    "import numpy as np\n",
    "import pandas as pd"
   ]
  },
  {
   "cell_type": "code",
   "execution_count": 3,
   "metadata": {},
   "outputs": [],
   "source": [
    "data = pd.read_csv(\"CO_df.csv\", delimiter=',')"
   ]
  },
  {
   "cell_type": "code",
   "execution_count": 4,
   "metadata": {},
   "outputs": [
    {
     "output_type": "execute_result",
     "data": {
      "text/plain": [
       "   swe_23  cswe_23  sd_23  csd_23  oat_23  swe_33  cswe_33  sd_33  csd_33  \\\n",
       "0    30.7      0.4     79       1      32    13.0     -0.4     32      -2   \n",
       "1    31.5      0.8     82       3      34    12.4     -0.6     29      -3   \n",
       "2    32.3      0.8     87       5      27    12.1     -0.3     29       0   \n",
       "3    32.9      0.6     87       0      23    12.1      0.0     29       0   \n",
       "4    33.4      0.5     86      -1      32    11.6     -0.5     27      -2   \n",
       "\n",
       "   oat_33  ...  swe_854  cswe_854  sd_854  csd_854  oat_854  swe_866  \\\n",
       "0      30  ...     22.3       0.0      61        1       34      0.0   \n",
       "1      38  ...     22.1      -0.2      57       -4       41      0.0   \n",
       "2      31  ...     22.8       0.7      61        4       31      0.0   \n",
       "3      30  ...     23.4       0.6      62        1       25      0.0   \n",
       "4      42  ...     23.3      -0.1      57       -5       38      0.0   \n",
       "\n",
       "   cswe_866  sd_866  csd_866  oat_866  \n",
       "0       0.0       0        0       38  \n",
       "1       0.0       0        0       47  \n",
       "2       0.0       0        0       40  \n",
       "3       0.0       0        0       41  \n",
       "4       0.0       0        0       45  \n",
       "\n",
       "[5 rows x 535 columns]"
      ],
      "text/html": "<div>\n<style scoped>\n    .dataframe tbody tr th:only-of-type {\n        vertical-align: middle;\n    }\n\n    .dataframe tbody tr th {\n        vertical-align: top;\n    }\n\n    .dataframe thead th {\n        text-align: right;\n    }\n</style>\n<table border=\"1\" class=\"dataframe\">\n  <thead>\n    <tr style=\"text-align: right;\">\n      <th></th>\n      <th>swe_23</th>\n      <th>cswe_23</th>\n      <th>sd_23</th>\n      <th>csd_23</th>\n      <th>oat_23</th>\n      <th>swe_33</th>\n      <th>cswe_33</th>\n      <th>sd_33</th>\n      <th>csd_33</th>\n      <th>oat_33</th>\n      <th>...</th>\n      <th>swe_854</th>\n      <th>cswe_854</th>\n      <th>sd_854</th>\n      <th>csd_854</th>\n      <th>oat_854</th>\n      <th>swe_866</th>\n      <th>cswe_866</th>\n      <th>sd_866</th>\n      <th>csd_866</th>\n      <th>oat_866</th>\n    </tr>\n  </thead>\n  <tbody>\n    <tr>\n      <th>0</th>\n      <td>30.7</td>\n      <td>0.4</td>\n      <td>79</td>\n      <td>1</td>\n      <td>32</td>\n      <td>13.0</td>\n      <td>-0.4</td>\n      <td>32</td>\n      <td>-2</td>\n      <td>30</td>\n      <td>...</td>\n      <td>22.3</td>\n      <td>0.0</td>\n      <td>61</td>\n      <td>1</td>\n      <td>34</td>\n      <td>0.0</td>\n      <td>0.0</td>\n      <td>0</td>\n      <td>0</td>\n      <td>38</td>\n    </tr>\n    <tr>\n      <th>1</th>\n      <td>31.5</td>\n      <td>0.8</td>\n      <td>82</td>\n      <td>3</td>\n      <td>34</td>\n      <td>12.4</td>\n      <td>-0.6</td>\n      <td>29</td>\n      <td>-3</td>\n      <td>38</td>\n      <td>...</td>\n      <td>22.1</td>\n      <td>-0.2</td>\n      <td>57</td>\n      <td>-4</td>\n      <td>41</td>\n      <td>0.0</td>\n      <td>0.0</td>\n      <td>0</td>\n      <td>0</td>\n      <td>47</td>\n    </tr>\n    <tr>\n      <th>2</th>\n      <td>32.3</td>\n      <td>0.8</td>\n      <td>87</td>\n      <td>5</td>\n      <td>27</td>\n      <td>12.1</td>\n      <td>-0.3</td>\n      <td>29</td>\n      <td>0</td>\n      <td>31</td>\n      <td>...</td>\n      <td>22.8</td>\n      <td>0.7</td>\n      <td>61</td>\n      <td>4</td>\n      <td>31</td>\n      <td>0.0</td>\n      <td>0.0</td>\n      <td>0</td>\n      <td>0</td>\n      <td>40</td>\n    </tr>\n    <tr>\n      <th>3</th>\n      <td>32.9</td>\n      <td>0.6</td>\n      <td>87</td>\n      <td>0</td>\n      <td>23</td>\n      <td>12.1</td>\n      <td>0.0</td>\n      <td>29</td>\n      <td>0</td>\n      <td>30</td>\n      <td>...</td>\n      <td>23.4</td>\n      <td>0.6</td>\n      <td>62</td>\n      <td>1</td>\n      <td>25</td>\n      <td>0.0</td>\n      <td>0.0</td>\n      <td>0</td>\n      <td>0</td>\n      <td>41</td>\n    </tr>\n    <tr>\n      <th>4</th>\n      <td>33.4</td>\n      <td>0.5</td>\n      <td>86</td>\n      <td>-1</td>\n      <td>32</td>\n      <td>11.6</td>\n      <td>-0.5</td>\n      <td>27</td>\n      <td>-2</td>\n      <td>42</td>\n      <td>...</td>\n      <td>23.3</td>\n      <td>-0.1</td>\n      <td>57</td>\n      <td>-5</td>\n      <td>38</td>\n      <td>0.0</td>\n      <td>0.0</td>\n      <td>0</td>\n      <td>0</td>\n      <td>45</td>\n    </tr>\n  </tbody>\n</table>\n<p>5 rows × 535 columns</p>\n</div>"
     },
     "metadata": {},
     "execution_count": 4
    }
   ],
   "source": [
    "data.head()"
   ]
  },
  {
   "cell_type": "code",
   "execution_count": null,
   "metadata": {},
   "outputs": [],
   "source": []
  }
 ]
}
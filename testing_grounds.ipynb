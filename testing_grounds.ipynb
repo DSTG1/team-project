{
 "cells": [
  {
   "cell_type": "code",
   "execution_count": 1,
   "metadata": {},
   "outputs": [],
   "source": [
    "import requests"
   ]
  },
  {
   "cell_type": "code",
   "execution_count": 7,
   "metadata": {},
   "outputs": [],
   "source": [
    "#http://powderlin.es/api.html for api information\n",
    "snow_api = 'http://api.powderlin.es/'\n",
    "stations = requests.get(snow_api+'stations')"
   ]
  },
  {
   "cell_type": "code",
   "execution_count": 11,
   "metadata": {},
   "outputs": [
    {
     "data": {
      "text/plain": [
       "[{'elevation': 8777,\n",
       "  'location': {'lat': 40.8852, 'lng': -110.8277},\n",
       "  'name': 'BEAR RIVER RS',\n",
       "  'timezone': -7,\n",
       "  'triplet': '992:UT:SNTL',\n",
       "  'wind': False},\n",
       " {'elevation': 5130,\n",
       "  'location': {'lat': 46.78265, 'lng': -121.74765},\n",
       "  'name': 'PARADISE',\n",
       "  'timezone': -8,\n",
       "  'triplet': '679:WA:SNTL',\n",
       "  'wind': False},\n",
       " {'elevation': 4890,\n",
       "  'location': {'lat': 42.2062, 'lng': -121.1334},\n",
       "  'name': 'GERBER RESERVOIR',\n",
       "  'timezone': -8,\n",
       "  'triplet': '945:OR:SNTL',\n",
       "  'wind': False}]"
      ]
     },
     "execution_count": 11,
     "metadata": {},
     "output_type": "execute_result"
    }
   ],
   "source": [
    "#triplet is basically the id\n",
    "stations.json()[:3]"
   ]
  },
  {
   "cell_type": "code",
   "execution_count": 16,
   "metadata": {},
   "outputs": [
    {
     "name": "stdout",
     "output_type": "stream",
     "text": [
      "[{'Date': '2021-02-26', 'Snow Water Equivalent (in)': '6.1', 'Change In Snow Water Equivalent (in)': '0.0', 'Snow Depth (in)': '28', 'Change In Snow Depth (in)': '-1', 'Observed Air Temperature (degrees farenheit)': '8'}, {'Date': '2021-02-27', 'Snow Water Equivalent (in)': '6.3', 'Change In Snow Water Equivalent (in)': '0.2', 'Snow Depth (in)': '29', 'Change In Snow Depth (in)': '1', 'Observed Air Temperature (degrees farenheit)': '13'}, {'Date': '2021-02-28', 'Snow Water Equivalent (in)': '6.3', 'Change In Snow Water Equivalent (in)': '0.0', 'Snow Depth (in)': '30', 'Change In Snow Depth (in)': '1', 'Observed Air Temperature (degrees farenheit)': '-5'}, {'Date': '2021-03-01', 'Snow Water Equivalent (in)': '6.3', 'Change In Snow Water Equivalent (in)': '0.0', 'Snow Depth (in)': '29', 'Change In Snow Depth (in)': '-1', 'Observed Air Temperature (degrees farenheit)': '-3'}, {'Date': '2021-03-02', 'Snow Water Equivalent (in)': '6.4', 'Change In Snow Water Equivalent (in)': '0.1', 'Snow Depth (in)': '28', 'Change In Snow Depth (in)': '-1', 'Observed Air Temperature (degrees farenheit)': '14'}, {'Date': '2021-03-03', 'Snow Water Equivalent (in)': '6.5', 'Change In Snow Water Equivalent (in)': '0.1', 'Snow Depth (in)': '28', 'Change In Snow Depth (in)': '0', 'Observed Air Temperature (degrees farenheit)': '16'}]\n"
     ]
    }
   ],
   "source": [
    "bear_river = requests.get(snow_api+'station/'+stations.json()[0]['triplet']).json()\n",
    "print(bear_river['data'])"
   ]
  },
  {
   "cell_type": "code",
   "execution_count": 19,
   "metadata": {},
   "outputs": [
    {
     "data": {
      "text/plain": [
       "[{'station_information': {'elevation': 310,\n",
       "   'location': {'lat': 67.93333, 'lng': -162.28333},\n",
       "   'name': 'KELLY STATION',\n",
       "   'timezone': -9,\n",
       "   'triplet': '1175:AK:SNTL',\n",
       "   'wind': False},\n",
       "  'distance': 3756.3606615130466},\n",
       " {'station_information': {'elevation': 25,\n",
       "   'location': {'lat': 64.5646, 'lng': -164.29257},\n",
       "   'name': \"JOHNSON'S CAMP\",\n",
       "   'timezone': -9,\n",
       "   'triplet': '1036:AK:SNTL',\n",
       "   'wind': True},\n",
       "  'distance': 3783.7375524246327},\n",
       " {'station_information': {'elevation': 100,\n",
       "   'location': {'lat': 64.9935, 'lng': -163.10317},\n",
       "   'name': 'PARGON CREEK',\n",
       "   'timezone': -9,\n",
       "   'triplet': '986:AK:SNTL',\n",
       "   'wind': True},\n",
       "  'distance': 3805.992055174416}]"
      ]
     },
     "execution_count": 19,
     "metadata": {},
     "output_type": "execute_result"
    }
   ],
   "source": [
    "requests.get(snow_api+'closest_stations', params={'lat': '40', 'lng':'105'}).json()\n"
   ]
  },
  {
   "cell_type": "code",
   "execution_count": null,
   "metadata": {},
   "outputs": [],
   "source": []
  }
 ],
 "metadata": {
  "kernelspec": {
   "display_name": "Python 3",
   "language": "python",
   "name": "python3"
  },
  "language_info": {
   "codemirror_mode": {
    "name": "ipython",
    "version": 3
   },
   "file_extension": ".py",
   "mimetype": "text/x-python",
   "name": "python",
   "nbconvert_exporter": "python",
   "pygments_lexer": "ipython3",
   "version": "3.8.5"
  }
 },
 "nbformat": 4,
 "nbformat_minor": 4
}

{
 "metadata": {
  "language_info": {
   "codemirror_mode": {
    "name": "ipython",
    "version": 3
   },
   "file_extension": ".py",
   "mimetype": "text/x-python",
   "name": "python",
   "nbconvert_exporter": "python",
   "pygments_lexer": "ipython3",
   "version": "3.6.8-final"
  },
  "orig_nbformat": 2,
  "kernelspec": {
   "name": "python3",
   "display_name": "Python 3.6.8 64-bit",
   "metadata": {
    "interpreter": {
     "hash": "bc5325771484cd741460cbbcf20a153b1ef45b389ce85e60a186ce6bd8aea41f"
    }
   }
  }
 },
 "nbformat": 4,
 "nbformat_minor": 2,
 "cells": [
  {
   "cell_type": "code",
   "execution_count": 1,
   "metadata": {},
   "outputs": [],
   "source": [
    "from SNOTEL import *"
   ]
  },
  {
   "cell_type": "code",
   "execution_count": 2,
   "metadata": {},
   "outputs": [],
   "source": [
    "STEL = SNOTEL()"
   ]
  },
  {
   "cell_type": "code",
   "execution_count": 3,
   "metadata": {},
   "outputs": [
    {
     "output_type": "execute_result",
     "data": {
      "text/plain": [
       "'http://api.powderlin.es/'"
      ]
     },
     "metadata": {},
     "execution_count": 3
    }
   ],
   "source": [
    "STEL.stations\n",
    "STEL.api"
   ]
  },
  {
   "cell_type": "code",
   "execution_count": 4,
   "metadata": {},
   "outputs": [],
   "source": [
    "STEL.process_stations()"
   ]
  },
  {
   "cell_type": "code",
   "execution_count": 5,
   "metadata": {},
   "outputs": [
    {
     "output_type": "stream",
     "name": "stdout",
     "text": [
      "Downloaded 0 stations...\n",
      "Station: LAKEFORK BASIN (Index: 4) is no longer supported (Internal Server Error).\n"
     ]
    }
   ],
   "source": [
    "n = 5\n",
    "STEL.download_sites(n)"
   ]
  },
  {
   "cell_type": "code",
   "execution_count": 6,
   "metadata": {},
   "outputs": [
    {
     "output_type": "execute_result",
     "data": {
      "text/plain": [
       "{'BEAR RIVER RS':          Date Snow Water Equivalent (in) Change In Snow Water Equivalent (in)  \\\n",
       " 0  2021-03-03                        6.5                                  0.2   \n",
       " 1  2021-03-04                        6.5                                  0.0   \n",
       " 2  2021-03-05                        6.7                                  0.2   \n",
       " 3  2021-03-06                        6.7                                  0.0   \n",
       " 4  2021-03-07                        6.7                                  0.0   \n",
       " 5  2021-03-08                        6.7                                  0.0   \n",
       " \n",
       "   Snow Depth (in) Change In Snow Depth (in)  \\\n",
       " 0              28                         0   \n",
       " 1              26                        -2   \n",
       " 2              26                         0   \n",
       " 3              26                         0   \n",
       " 4              25                        -1   \n",
       " 5              23                        -2   \n",
       " \n",
       "   Observed Air Temperature (degrees farenheit)  \n",
       " 0                                           16  \n",
       " 1                                           23  \n",
       " 2                                           12  \n",
       " 3                                           26  \n",
       " 4                                           22  \n",
       " 5                                           37  ,\n",
       " 'PARADISE':          Date Snow Water Equivalent (in) Change In Snow Water Equivalent (in)  \\\n",
       " 0  2021-03-03                       79.7                                  0.2   \n",
       " 1  2021-03-04                       79.7                                  0.0   \n",
       " 2  2021-03-05                       80.0                                  0.3   \n",
       " 3  2021-03-06                       80.4                                  0.4   \n",
       " 4  2021-03-07                       80.6                                  0.2   \n",
       " 5  2021-03-08                       81.1                                  0.5   \n",
       " \n",
       "   Snow Depth (in) Change In Snow Depth (in)  \\\n",
       " 0             199                        -3   \n",
       " 1             197                        -2   \n",
       " 2             195                        -2   \n",
       " 3             197                         2   \n",
       " 4             196                        -1   \n",
       " 5             201                         5   \n",
       " \n",
       "   Observed Air Temperature (degrees farenheit)  \n",
       " 0                                           27  \n",
       " 1                                           34  \n",
       " 2                                           38  \n",
       " 3                                           28  \n",
       " 4                                           27  \n",
       " 5                                           18  ,\n",
       " 'GERBER RESERVOIR':          Date Snow Water Equivalent (in) Change In Snow Water Equivalent (in)  \\\n",
       " 0  2021-03-03                        0.9                                 -0.2   \n",
       " 1  2021-03-04                        0.6                                 -0.3   \n",
       " 2  2021-03-05                        0.5                                 -0.1   \n",
       " 3  2021-03-06                        0.3                                 -0.2   \n",
       " 4  2021-03-07                        0.3                                  0.0   \n",
       " 5  2021-03-08                        0.3                                  0.0   \n",
       " \n",
       "   Snow Depth (in) Change In Snow Depth (in)  \\\n",
       " 0               2                        -1   \n",
       " 1               1                        -1   \n",
       " 2               1                         0   \n",
       " 3            None                      None   \n",
       " 4            None                      None   \n",
       " 5            None                      None   \n",
       " \n",
       "   Observed Air Temperature (degrees farenheit)  \n",
       " 0                                           28  \n",
       " 1                                           32  \n",
       " 2                                           38  \n",
       " 3                                           36  \n",
       " 4                                           31  \n",
       " 5                                           35  ,\n",
       " 'GUNSIGHT PASS':          Date Snow Water Equivalent (in) Change In Snow Water Equivalent (in)  \\\n",
       " 0  2021-03-03                       10.3                                  0.1   \n",
       " 1  2021-03-04                       10.3                                  0.0   \n",
       " 2  2021-03-05                       10.3                                  0.0   \n",
       " 3  2021-03-06                       10.3                                  0.0   \n",
       " 4  2021-03-07                       10.3                                  0.0   \n",
       " 5  2021-03-08                       10.3                                  0.0   \n",
       " \n",
       "   Snow Depth (in) Change In Snow Depth (in)  \\\n",
       " 0              42                        -1   \n",
       " 1              42                         0   \n",
       " 2              41                        -1   \n",
       " 3              41                         0   \n",
       " 4              40                        -1   \n",
       " 5              40                         0   \n",
       " \n",
       "   Observed Air Temperature (degrees farenheit)  \n",
       " 0                                           19  \n",
       " 1                                           23  \n",
       " 2                                           23  \n",
       " 3                                           24  \n",
       " 4                                           21  \n",
       " 5                                           27  ,\n",
       " 'BEAVER CREEK':          Date Snow Water Equivalent (in) Change In Snow Water Equivalent (in)  \\\n",
       " 0  2021-03-03                       11.3                                  0.0   \n",
       " 1  2021-03-04                       11.3                                  0.0   \n",
       " 2  2021-03-05                       11.3                                  0.0   \n",
       " 3  2021-03-06                       11.3                                  0.0   \n",
       " 4  2021-03-07                       11.3                                  0.0   \n",
       " 5  2021-03-08                       11.3                                  0.0   \n",
       " \n",
       "   Snow Depth (in) Change In Snow Depth (in)  \\\n",
       " 0              41                         1   \n",
       " 1              41                         0   \n",
       " 2              40                        -1   \n",
       " 3              40                         0   \n",
       " 4              40                         0   \n",
       " 5              39                        -1   \n",
       " \n",
       "   Observed Air Temperature (degrees farenheit)  \n",
       " 0                                           11  \n",
       " 1                                           15  \n",
       " 2                                           15  \n",
       " 3                                           16  \n",
       " 4                                           28  \n",
       " 5                                           17  ,\n",
       " 'CAMP JACKSON':          Date Snow Water Equivalent (in) Change In Snow Water Equivalent (in)  \\\n",
       " 0  2021-03-03                        7.6                                  0.0   \n",
       " 1  2021-03-04                        7.6                                  0.0   \n",
       " 2  2021-03-05                        7.6                                  0.0   \n",
       " 3  2021-03-06                        7.6                                  0.0   \n",
       " 4  2021-03-07                        7.6                                  0.0   \n",
       " 5  2021-03-08                        7.6                                  0.0   \n",
       " \n",
       "   Snow Depth (in) Change In Snow Depth (in)  \\\n",
       " 0              26                        -1   \n",
       " 1              26                         0   \n",
       " 2              26                         0   \n",
       " 3              25                        -1   \n",
       " 4              24                        -1   \n",
       " 5              24                         0   \n",
       " \n",
       "   Observed Air Temperature (degrees farenheit)  \n",
       " 0                                           28  \n",
       " 1                                           29  \n",
       " 2                                           36  \n",
       " 3                                           31  \n",
       " 4                                           33  \n",
       " 5                                           41  ,\n",
       " 'PATTON MEADOWS AM':          Date Snow Water Equivalent (in) Change In Snow Water Equivalent (in)  \\\n",
       " 0  2021-03-03                       None                                 None   \n",
       " 1  2021-03-04                       None                                 None   \n",
       " 2  2021-03-05                       None                                 None   \n",
       " 3  2021-03-06                       None                                 None   \n",
       " 4  2021-03-07                       None                                 None   \n",
       " 5  2021-03-08                       None                                 None   \n",
       " \n",
       "   Snow Depth (in) Change In Snow Depth (in)  \\\n",
       " 0              39                         0   \n",
       " 1              39                         0   \n",
       " 2              38                        -1   \n",
       " 3              38                         0   \n",
       " 4              39                         1   \n",
       " 5              38                        -1   \n",
       " \n",
       "   Observed Air Temperature (degrees farenheit)  \n",
       " 0                                            9  \n",
       " 1                                           37  \n",
       " 2                                           35  \n",
       " 3                                           35  \n",
       " 4                                           26  \n",
       " 5                                           30  ,\n",
       " 'SQUAW SPRINGS':          Date Snow Water Equivalent (in) Change In Snow Water Equivalent (in)  \\\n",
       " 0  2021-03-03                        5.0                                  0.1   \n",
       " 1  2021-03-04                        5.0                                  0.0   \n",
       " 2  2021-03-05                        5.2                                  0.2   \n",
       " 3  2021-03-06                        5.2                                  0.0   \n",
       " 4  2021-03-07                        5.2                                  0.0   \n",
       " 5  2021-03-08                        5.2                                  0.0   \n",
       " \n",
       "   Snow Depth (in) Change In Snow Depth (in)  \\\n",
       " 0              20                         0   \n",
       " 1              20                         0   \n",
       " 2              21                         1   \n",
       " 3              20                        -1   \n",
       " 4              19                        -1   \n",
       " 5              18                        -1   \n",
       " \n",
       "   Observed Air Temperature (degrees farenheit)  \n",
       " 0                                           25  \n",
       " 1                                           27  \n",
       " 2                                           28  \n",
       " 3                                           33  \n",
       " 4                                           36  \n",
       " 5                                           39  ,\n",
       " 'PINE CREEK PASS':          Date Snow Water Equivalent (in) Change In Snow Water Equivalent (in)  \\\n",
       " 0  2021-03-03                       15.3                                  0.0   \n",
       " 1  2021-03-04                       15.3                                  0.0   \n",
       " 2  2021-03-05                       15.2                                 -0.1   \n",
       " 3  2021-03-06                       15.3                                  0.1   \n",
       " 4  2021-03-07                       15.3                                  0.0   \n",
       " 5  2021-03-08                       15.3                                  0.0   \n",
       " \n",
       "   Snow Depth (in) Change In Snow Depth (in)  \\\n",
       " 0              56                        -2   \n",
       " 1              54                        -2   \n",
       " 2              53                        -1   \n",
       " 3              52                        -1   \n",
       " 4              51                        -1   \n",
       " 5              50                        -1   \n",
       " \n",
       "   Observed Air Temperature (degrees farenheit)  \n",
       " 0                                           22  \n",
       " 1                                           29  \n",
       " 2                                           25  \n",
       " 3                                           28  \n",
       " 4                                           30  \n",
       " 5                                           29  }"
      ]
     },
     "metadata": {},
     "execution_count": 6
    }
   ],
   "source": [
    "STEL.station_data"
   ]
  },
  {
   "cell_type": "code",
   "execution_count": 8,
   "metadata": {},
   "outputs": [
    {
     "output_type": "error",
     "ename": "IndexError",
     "evalue": "tuple index out of range",
     "traceback": [
      "\u001b[1;31m---------------------------------------------------------------------------\u001b[0m",
      "\u001b[1;31mIndexError\u001b[0m                                Traceback (most recent call last)",
      "\u001b[1;32m<ipython-input-8-3c56527c7cc9>\u001b[0m in \u001b[0;36m<module>\u001b[1;34m\u001b[0m\n\u001b[1;32m----> 1\u001b[1;33m \u001b[0mSTEL\u001b[0m\u001b[1;33m.\u001b[0m\u001b[0mgraph_site\u001b[0m\u001b[1;33m(\u001b[0m\u001b[1;34m'BEAVER CREEK'\u001b[0m\u001b[1;33m)\u001b[0m\u001b[1;33m\u001b[0m\u001b[1;33m\u001b[0m\u001b[0m\n\u001b[0m",
      "\u001b[1;32mc:\\Users\\user\\Documents\\School\\2020-2021\\CSCI 4802\\team-project\\SNOTEL.py\u001b[0m in \u001b[0;36mgraph_site\u001b[1;34m(self, site_key)\u001b[0m\n\u001b[0;32m     73\u001b[0m \u001b[1;33m\u001b[0m\u001b[0m\n\u001b[0;32m     74\u001b[0m                 \u001b[1;31m# SWE\u001b[0m\u001b[1;33m\u001b[0m\u001b[1;33m\u001b[0m\u001b[1;33m\u001b[0m\u001b[0m\n\u001b[1;32m---> 75\u001b[1;33m                 \u001b[0maxs\u001b[0m\u001b[1;33m[\u001b[0m\u001b[1;36m0\u001b[0m\u001b[1;33m,\u001b[0m\u001b[1;36m0\u001b[0m\u001b[1;33m]\u001b[0m\u001b[1;33m.\u001b[0m\u001b[0mplot\u001b[0m\u001b[1;33m(\u001b[0m\u001b[0msnow_water_equivalent\u001b[0m\u001b[1;33m.\u001b[0m\u001b[0mindex\u001b[0m\u001b[1;33m,\u001b[0m \u001b[0msnow_water_equivalent\u001b[0m\u001b[1;33m,\u001b[0m \u001b[0mc\u001b[0m\u001b[1;33m=\u001b[0m\u001b[1;34m'tab:blue'\u001b[0m\u001b[1;33m)\u001b[0m\u001b[1;33m\u001b[0m\u001b[1;33m\u001b[0m\u001b[0m\n\u001b[0m\u001b[0;32m     76\u001b[0m                 \u001b[0maxs\u001b[0m\u001b[1;33m[\u001b[0m\u001b[1;36m0\u001b[0m\u001b[1;33m,\u001b[0m\u001b[1;36m0\u001b[0m\u001b[1;33m]\u001b[0m\u001b[1;33m.\u001b[0m\u001b[0mset_xlabel\u001b[0m\u001b[1;33m(\u001b[0m\u001b[1;34m'Time'\u001b[0m\u001b[1;33m)\u001b[0m\u001b[1;33m\u001b[0m\u001b[1;33m\u001b[0m\u001b[0m\n\u001b[0;32m     77\u001b[0m                 \u001b[0maxs\u001b[0m\u001b[1;33m[\u001b[0m\u001b[1;36m0\u001b[0m\u001b[1;33m,\u001b[0m\u001b[1;36m0\u001b[0m\u001b[1;33m]\u001b[0m\u001b[1;33m.\u001b[0m\u001b[0mset_ylabel\u001b[0m\u001b[1;33m(\u001b[0m\u001b[1;34m'Values'\u001b[0m\u001b[1;33m)\u001b[0m\u001b[1;33m\u001b[0m\u001b[1;33m\u001b[0m\u001b[0m\n",
      "\u001b[1;32m~\\AppData\\Local\\Programs\\Python\\Python36\\lib\\site-packages\\matplotlib\\axes\\_axes.py\u001b[0m in \u001b[0;36mplot\u001b[1;34m(self, scalex, scaley, data, *args, **kwargs)\u001b[0m\n\u001b[0;32m   1664\u001b[0m         \"\"\"\n\u001b[0;32m   1665\u001b[0m         \u001b[0mkwargs\u001b[0m \u001b[1;33m=\u001b[0m \u001b[0mcbook\u001b[0m\u001b[1;33m.\u001b[0m\u001b[0mnormalize_kwargs\u001b[0m\u001b[1;33m(\u001b[0m\u001b[0mkwargs\u001b[0m\u001b[1;33m,\u001b[0m \u001b[0mmlines\u001b[0m\u001b[1;33m.\u001b[0m\u001b[0mLine2D\u001b[0m\u001b[1;33m.\u001b[0m\u001b[0m_alias_map\u001b[0m\u001b[1;33m)\u001b[0m\u001b[1;33m\u001b[0m\u001b[1;33m\u001b[0m\u001b[0m\n\u001b[1;32m-> 1666\u001b[1;33m         \u001b[0mlines\u001b[0m \u001b[1;33m=\u001b[0m \u001b[1;33m[\u001b[0m\u001b[1;33m*\u001b[0m\u001b[0mself\u001b[0m\u001b[1;33m.\u001b[0m\u001b[0m_get_lines\u001b[0m\u001b[1;33m(\u001b[0m\u001b[1;33m*\u001b[0m\u001b[0margs\u001b[0m\u001b[1;33m,\u001b[0m \u001b[0mdata\u001b[0m\u001b[1;33m=\u001b[0m\u001b[0mdata\u001b[0m\u001b[1;33m,\u001b[0m \u001b[1;33m**\u001b[0m\u001b[0mkwargs\u001b[0m\u001b[1;33m)\u001b[0m\u001b[1;33m]\u001b[0m\u001b[1;33m\u001b[0m\u001b[1;33m\u001b[0m\u001b[0m\n\u001b[0m\u001b[0;32m   1667\u001b[0m         \u001b[1;32mfor\u001b[0m \u001b[0mline\u001b[0m \u001b[1;32min\u001b[0m \u001b[0mlines\u001b[0m\u001b[1;33m:\u001b[0m\u001b[1;33m\u001b[0m\u001b[1;33m\u001b[0m\u001b[0m\n\u001b[0;32m   1668\u001b[0m             \u001b[0mself\u001b[0m\u001b[1;33m.\u001b[0m\u001b[0madd_line\u001b[0m\u001b[1;33m(\u001b[0m\u001b[0mline\u001b[0m\u001b[1;33m)\u001b[0m\u001b[1;33m\u001b[0m\u001b[1;33m\u001b[0m\u001b[0m\n",
      "\u001b[1;32m~\\AppData\\Local\\Programs\\Python\\Python36\\lib\\site-packages\\matplotlib\\axes\\_base.py\u001b[0m in \u001b[0;36m__call__\u001b[1;34m(self, *args, **kwargs)\u001b[0m\n\u001b[0;32m    223\u001b[0m                 \u001b[0mthis\u001b[0m \u001b[1;33m+=\u001b[0m \u001b[0margs\u001b[0m\u001b[1;33m[\u001b[0m\u001b[1;36m0\u001b[0m\u001b[1;33m]\u001b[0m\u001b[1;33m,\u001b[0m\u001b[1;33m\u001b[0m\u001b[1;33m\u001b[0m\u001b[0m\n\u001b[0;32m    224\u001b[0m                 \u001b[0margs\u001b[0m \u001b[1;33m=\u001b[0m \u001b[0margs\u001b[0m\u001b[1;33m[\u001b[0m\u001b[1;36m1\u001b[0m\u001b[1;33m:\u001b[0m\u001b[1;33m]\u001b[0m\u001b[1;33m\u001b[0m\u001b[1;33m\u001b[0m\u001b[0m\n\u001b[1;32m--> 225\u001b[1;33m             \u001b[1;32myield\u001b[0m \u001b[1;32mfrom\u001b[0m \u001b[0mself\u001b[0m\u001b[1;33m.\u001b[0m\u001b[0m_plot_args\u001b[0m\u001b[1;33m(\u001b[0m\u001b[0mthis\u001b[0m\u001b[1;33m,\u001b[0m \u001b[0mkwargs\u001b[0m\u001b[1;33m)\u001b[0m\u001b[1;33m\u001b[0m\u001b[1;33m\u001b[0m\u001b[0m\n\u001b[0m\u001b[0;32m    226\u001b[0m \u001b[1;33m\u001b[0m\u001b[0m\n\u001b[0;32m    227\u001b[0m     \u001b[1;32mdef\u001b[0m \u001b[0mget_next_color\u001b[0m\u001b[1;33m(\u001b[0m\u001b[0mself\u001b[0m\u001b[1;33m)\u001b[0m\u001b[1;33m:\u001b[0m\u001b[1;33m\u001b[0m\u001b[1;33m\u001b[0m\u001b[0m\n",
      "\u001b[1;32m~\\AppData\\Local\\Programs\\Python\\Python36\\lib\\site-packages\\matplotlib\\axes\\_base.py\u001b[0m in \u001b[0;36m_plot_args\u001b[1;34m(self, tup, kwargs)\u001b[0m\n\u001b[0;32m    397\u001b[0m             \u001b[0mfunc\u001b[0m \u001b[1;33m=\u001b[0m \u001b[0mself\u001b[0m\u001b[1;33m.\u001b[0m\u001b[0m_makefill\u001b[0m\u001b[1;33m\u001b[0m\u001b[1;33m\u001b[0m\u001b[0m\n\u001b[0;32m    398\u001b[0m \u001b[1;33m\u001b[0m\u001b[0m\n\u001b[1;32m--> 399\u001b[1;33m         \u001b[0mncx\u001b[0m\u001b[1;33m,\u001b[0m \u001b[0mncy\u001b[0m \u001b[1;33m=\u001b[0m \u001b[0mx\u001b[0m\u001b[1;33m.\u001b[0m\u001b[0mshape\u001b[0m\u001b[1;33m[\u001b[0m\u001b[1;36m1\u001b[0m\u001b[1;33m]\u001b[0m\u001b[1;33m,\u001b[0m \u001b[0my\u001b[0m\u001b[1;33m.\u001b[0m\u001b[0mshape\u001b[0m\u001b[1;33m[\u001b[0m\u001b[1;36m1\u001b[0m\u001b[1;33m]\u001b[0m\u001b[1;33m\u001b[0m\u001b[1;33m\u001b[0m\u001b[0m\n\u001b[0m\u001b[0;32m    400\u001b[0m         \u001b[1;32mif\u001b[0m \u001b[0mncx\u001b[0m \u001b[1;33m>\u001b[0m \u001b[1;36m1\u001b[0m \u001b[1;32mand\u001b[0m \u001b[0mncy\u001b[0m \u001b[1;33m>\u001b[0m \u001b[1;36m1\u001b[0m \u001b[1;32mand\u001b[0m \u001b[0mncx\u001b[0m \u001b[1;33m!=\u001b[0m \u001b[0mncy\u001b[0m\u001b[1;33m:\u001b[0m\u001b[1;33m\u001b[0m\u001b[1;33m\u001b[0m\u001b[0m\n\u001b[0;32m    401\u001b[0m             cbook.warn_deprecated(\n",
      "\u001b[1;31mIndexError\u001b[0m: tuple index out of range"
     ]
    }
   ],
   "source": [
    "STEL.graph_site('BEAVER CREEK')"
   ]
  },
  {
   "cell_type": "code",
   "execution_count": null,
   "metadata": {},
   "outputs": [],
   "source": []
  },
  {
   "cell_type": "code",
   "execution_count": null,
   "metadata": {},
   "outputs": [],
   "source": []
  }
 ]
}
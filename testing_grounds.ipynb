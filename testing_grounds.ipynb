{
 "cells": [
  {
   "cell_type": "code",
   "execution_count": 2,
   "metadata": {},
   "outputs": [],
   "source": [
    "import requests"
   ]
  },
  {
   "cell_type": "code",
   "execution_count": 4,
   "metadata": {},
   "outputs": [
    {
     "output_type": "stream",
     "name": "stdout",
     "text": [
      "<class 'requests.models.Response'>\n"
     ]
    }
   ],
   "source": [
    "#http://powderlin.es/api.html for api information\n",
    "snow_api = 'http://api.powderlin.es/'\n",
    "stations = requests.get(snow_api+'stations')"
   ]
  },
  {
   "cell_type": "code",
   "execution_count": 11,
   "metadata": {},
   "outputs": [
    {
     "data": {
      "text/plain": [
       "[{'elevation': 8777,\n",
       "  'location': {'lat': 40.8852, 'lng': -110.8277},\n",
       "  'name': 'BEAR RIVER RS',\n",
       "  'timezone': -7,\n",
       "  'triplet': '992:UT:SNTL',\n",
       "  'wind': False},\n",
       " {'elevation': 5130,\n",
       "  'location': {'lat': 46.78265, 'lng': -121.74765},\n",
       "  'name': 'PARADISE',\n",
       "  'timezone': -8,\n",
       "  'triplet': '679:WA:SNTL',\n",
       "  'wind': False},\n",
       " {'elevation': 4890,\n",
       "  'location': {'lat': 42.2062, 'lng': -121.1334},\n",
       "  'name': 'GERBER RESERVOIR',\n",
       "  'timezone': -8,\n",
       "  'triplet': '945:OR:SNTL',\n",
       "  'wind': False}]"
      ]
     },
     "execution_count": 11,
     "metadata": {},
     "output_type": "execute_result"
    }
   ],
   "source": [
    "#triplet is basically the id\n",
    "stations.json()[:3]"
   ]
  },
  {
   "cell_type": "code",
   "execution_count": 16,
   "metadata": {},
   "outputs": [
    {
     "name": "stdout",
     "output_type": "stream",
     "text": [
      "[{'Date': '2021-02-26', 'Snow Water Equivalent (in)': '6.1', 'Change In Snow Water Equivalent (in)': '0.0', 'Snow Depth (in)': '28', 'Change In Snow Depth (in)': '-1', 'Observed Air Temperature (degrees farenheit)': '8'}, {'Date': '2021-02-27', 'Snow Water Equivalent (in)': '6.3', 'Change In Snow Water Equivalent (in)': '0.2', 'Snow Depth (in)': '29', 'Change In Snow Depth (in)': '1', 'Observed Air Temperature (degrees farenheit)': '13'}, {'Date': '2021-02-28', 'Snow Water Equivalent (in)': '6.3', 'Change In Snow Water Equivalent (in)': '0.0', 'Snow Depth (in)': '30', 'Change In Snow Depth (in)': '1', 'Observed Air Temperature (degrees farenheit)': '-5'}, {'Date': '2021-03-01', 'Snow Water Equivalent (in)': '6.3', 'Change In Snow Water Equivalent (in)': '0.0', 'Snow Depth (in)': '29', 'Change In Snow Depth (in)': '-1', 'Observed Air Temperature (degrees farenheit)': '-3'}, {'Date': '2021-03-02', 'Snow Water Equivalent (in)': '6.4', 'Change In Snow Water Equivalent (in)': '0.1', 'Snow Depth (in)': '28', 'Change In Snow Depth (in)': '-1', 'Observed Air Temperature (degrees farenheit)': '14'}, {'Date': '2021-03-03', 'Snow Water Equivalent (in)': '6.5', 'Change In Snow Water Equivalent (in)': '0.1', 'Snow Depth (in)': '28', 'Change In Snow Depth (in)': '0', 'Observed Air Temperature (degrees farenheit)': '16'}]\n"
     ]
    }
   ],
   "source": [
    "bear_river = requests.get(snow_api+'station/'+stations.json()[0]['triplet']).json()\n",
    "print(bear_river['data'])"
   ]
  },
  {
   "cell_type": "code",
   "execution_count": 5,
   "metadata": {},
   "outputs": [
    {
     "output_type": "execute_result",
     "data": {
      "text/plain": [
       "[{'station_information': {'elevation': 9910,\n",
       "   'location': {'lat': 40.03523, 'lng': -105.54426},\n",
       "   'name': 'NIWOT',\n",
       "   'timezone': -7,\n",
       "   'triplet': '663:CO:SNTL',\n",
       "   'wind': False},\n",
       "  'distance': 28.88198322350397},\n",
       " {'station_information': {'elevation': 10300,\n",
       "   'location': {'lat': 40.03279, 'lng': -105.57615},\n",
       "   'name': 'UNIVERSITY CAMP',\n",
       "   'timezone': -7,\n",
       "   'triplet': '838:CO:SNTL',\n",
       "   'wind': False},\n",
       "  'distance': 30.5501915837048},\n",
       " {'station_information': {'elevation': 9700,\n",
       "   'location': {'lat': 39.93678, 'lng': -105.58956},\n",
       "   'name': 'LAKE ELDORA',\n",
       "   'timezone': -7,\n",
       "   'triplet': '564:CO:SNTL',\n",
       "   'wind': False},\n",
       "  'distance': 31.50109906062767}]"
      ]
     },
     "metadata": {},
     "execution_count": 5
    }
   ],
   "source": [
    "requests.get(snow_api+'closest_stations', params={'lat': '40', 'lng':'-105'}).json()"
   ]
  },
  {
   "cell_type": "code",
   "execution_count": null,
   "metadata": {},
   "outputs": [],
   "source": []
  }
 ],
 "metadata": {
  "kernelspec": {
   "name": "python3",
   "display_name": "Python 3.6.8 64-bit",
   "metadata": {
    "interpreter": {
     "hash": "bc5325771484cd741460cbbcf20a153b1ef45b389ce85e60a186ce6bd8aea41f"
    }
   }
  },
  "language_info": {
   "codemirror_mode": {
    "name": "ipython",
    "version": 3
   },
   "file_extension": ".py",
   "mimetype": "text/x-python",
   "name": "python",
   "nbconvert_exporter": "python",
   "pygments_lexer": "ipython3",
   "version": "3.6.8-final"
  }
 },
 "nbformat": 4,
 "nbformat_minor": 4
}